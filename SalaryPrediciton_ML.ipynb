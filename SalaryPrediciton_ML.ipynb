{
 "cells": [
  {
   "cell_type": "code",
   "execution_count": 1,
   "metadata": {},
   "outputs": [
    {
     "data": {
      "text/plain": [
       "'C:\\\\Users\\\\ManishaSpatialInsigh'"
      ]
     },
     "execution_count": 1,
     "metadata": {},
     "output_type": "execute_result"
    }
   ],
   "source": [
    "import os\n",
    "os.getcwd()"
   ]
  },
  {
   "cell_type": "code",
   "execution_count": 2,
   "metadata": {},
   "outputs": [
    {
     "data": {
      "text/plain": [
       "'D:\\\\testproject'"
      ]
     },
     "execution_count": 2,
     "metadata": {},
     "output_type": "execute_result"
    }
   ],
   "source": [
    "os.chdir('D:\\\\testproject')\n",
    "os.getcwd()"
   ]
  },
  {
   "cell_type": "code",
   "execution_count": 3,
   "metadata": {},
   "outputs": [
    {
     "name": "stdout",
     "output_type": "stream",
     "text": [
      " Volume in drive D is D drive\n",
      " Volume Serial Number is 084B-96ED\n",
      "\n",
      " Directory of D:\\testproject\n",
      "\n",
      "01/13/2020  04:47 PM    <DIR>          .\n",
      "01/13/2020  04:47 PM    <DIR>          ..\n",
      "12/26/2019  08:18 PM    <DIR>          data\n",
      "12/26/2019  08:16 PM                34 README.md\n",
      "12/27/2019  10:02 AM            21,999 salaryprediction .ipynb\n",
      "01/13/2020  04:47 PM           477,869 salarypredictionEDA.ipynb\n",
      "12/27/2019  10:11 AM            21,989 salarypredictionupdated.ipynb\n",
      "               4 File(s)        521,891 bytes\n",
      "               3 Dir(s)  232,547,061,760 bytes free\n"
     ]
    }
   ],
   "source": [
    "ls"
   ]
  },
  {
   "cell_type": "markdown",
   "metadata": {},
   "source": [
    "# Download all packages"
   ]
  },
  {
   "cell_type": "code",
   "execution_count": 14,
   "metadata": {},
   "outputs": [],
   "source": [
    "\n",
    "\n",
    "import pandas as pd\n",
    "import numpy as np\n",
    "from sklearn.ensemble import RandomForestRegressor, GradientBoostingRegressor\n",
    "from sklearn.model_selection import cross_val_score\n",
    "from sklearn.utils import shuffle\n",
    "from sklearn.metrics import mean_squared_error\n",
    "from sklearn.linear_model import LinearRegression\n",
    "from sklearn.pipeline import make_pipeline\n",
    "from sklearn.decomposition import PCA\n",
    "from sklearn.preprocessing import StandardScaler\n",
    "import matplotlib.pyplot as plt\n",
    "\n"
   ]
  },
  {
   "cell_type": "markdown",
   "metadata": {},
   "source": [
    "# Define functions \n",
    "\n"
   ]
  },
  {
   "cell_type": "code",
   "execution_count": null,
   "metadata": {},
   "outputs": [
    {
     "name": "stdout",
     "output_type": "stream",
     "text": [
      "Loading data\n",
      "Encoding data\n",
      "Beginning cross validation\n",
      "\n",
      "Model:\n",
      " LinearRegression(copy_X=True, fit_intercept=True, n_jobs=None, normalize=False)\n",
      "Average MSE:\n",
      " 384.44857972971863\n",
      "Standard deviation during CV:\n",
      " 0.27707210323725917\n",
      "\n",
      "Model:\n",
      " Pipeline(memory=None,\n",
      "         steps=[('standardscaler',\n",
      "                 StandardScaler(copy=True, with_mean=True, with_std=True)),\n",
      "                ('pca',\n",
      "                 PCA(copy=True, iterated_power='auto', n_components=None,\n",
      "                     random_state=None, svd_solver='auto', tol=0.0,\n",
      "                     whiten=False)),\n",
      "                ('linearregression',\n",
      "                 LinearRegression(copy_X=True, fit_intercept=True, n_jobs=None,\n",
      "                                  normalize=False))],\n",
      "         verbose=False)\n",
      "Average MSE:\n",
      " 384.4470721757263\n",
      "Standard deviation during CV:\n",
      " 0.2776247252882058\n",
      "\n",
      "Model:\n",
      " RandomForestRegressor(bootstrap=True, criterion='mse', max_depth=25,\n",
      "                      max_features=30, max_leaf_nodes=None,\n",
      "                      min_impurity_decrease=0.0, min_impurity_split=None,\n",
      "                      min_samples_leaf=1, min_samples_split=60,\n",
      "                      min_weight_fraction_leaf=0.0, n_estimators=60, n_jobs=2,\n",
      "                      oob_score=False, random_state=None, verbose=5,\n",
      "                      warm_start=False)\n",
      "Average MSE:\n",
      " 368.50756036802204\n",
      "Standard deviation during CV:\n",
      " 0.17107152625439426\n"
     ]
    }
   ],
   "source": [
    "def upload_file(file):\n",
    "    '''loads file from directory to pd dataframe'''\n",
    "    return pd.read_csv(file)\n",
    "\n",
    "def final_data(df1, df2, key=None, left_index=False, right_index=False):\n",
    "    '''perform inner join to return only records that are present in both dataframes'''\n",
    "    return pd.merge(left=df1, right=df2, how='inner', on=key, left_index=left_index, right_index=right_index)\n",
    "\n",
    "def clean_data(raw_df):\n",
    "    '''remove rows that contain salary <= 0 or duplicate job IDs'''\n",
    "    clean_df = raw_df.drop_duplicates(subset='jobId')\n",
    "    clean_df = clean_df[clean_df.salary>0]\n",
    "    return clean_df\n",
    "\n",
    "def one_hot_code_df(df, cat_vars=None, num_vars=None):\n",
    "    '''performs one-hot encoding on all categorical variables and combines result with continous variables'''\n",
    "    cat_df = pd.get_dummies(df[cat_vars])\n",
    "    num_df = df[num_vars].apply(pd.to_numeric)\n",
    "    return pd.concat([cat_df, num_df], axis=1)#,ignore_index=False)\n",
    "\n",
    "def gettarget_df(df, target):\n",
    "    '''returns target dataframe'''\n",
    "    return df[target]\n",
    "\n",
    "def train_model(model, feature_df, target_df, num_procs, mean_mse, cv_std):\n",
    "    neg_mse = cross_val_score(model, feature_df, target_df, cv=2, n_jobs=num_procs, scoring='neg_mean_squared_error')\n",
    "    mean_mse[model] = -1.0*np.mean(neg_mse)\n",
    "    cv_std[model] = np.std(neg_mse)\n",
    "    \n",
    "    \n",
    "def print_result(model, mean_mse, cv_std):\n",
    "    print('\\nModel:\\n', model)\n",
    "    print('Average MSE:\\n', mean_mse[model])\n",
    "    print('Standard deviation during CV:\\n', cv_std[model])    \n",
    "    \n",
    "def save_results(model, mean_mse, predictions, feature_importances):\n",
    "    '''saves model, model summary, feature importances, and predictions'''\n",
    "    with open('model.txt', 'w') as file:\n",
    "        file.write(str(model))\n",
    "    feature_importances.to_csv('feature_importances.csv') \n",
    "    np.savetxt('predictions.csv', predictions, delimiter=',')\n",
    "\n",
    "    \n",
    "    \n",
    "if __name__ == '__main__':\n",
    "    #define inputs\n",
    "    train_data = 'data/train_features.csv'\n",
    "    target_data = 'data/train_salaries.csv'\n",
    "    test_data = 'data/test_features.csv'\n",
    "\n",
    "    #define variables\n",
    "    categorical_vars = ['companyId', 'jobType', 'degree', 'major', 'industry']\n",
    "    numeric_vars = ['yearsExperience', 'milesFromMetropolis']\n",
    "    target_var = 'salary'\n",
    "\n",
    "    #load data\n",
    "    print(\"Loading data\")\n",
    "    feature_df = upload_file(train_data)\n",
    "    target_df = upload_file(target_data)\n",
    "    test_df = upload_file(test_data)\n",
    "    \n",
    "#consolidate training data\n",
    "    raw_train_df = final_data(feature_df, target_df, key='jobId')\n",
    "\n",
    "    #clean, shuffle, and reindex training data -- shuffling may improve cross-validation accuracy\n",
    "    clean_train_df = shuffle(clean_data(raw_train_df)).reset_index()\n",
    "\n",
    "    #encode categorical data and get final feature dfs\n",
    "    print(\"Encoding data\")\n",
    "    feature_df = one_hot_code_df(clean_train_df, cat_vars=categorical_vars, num_vars=numeric_vars)\n",
    "    test_df = one_hot_code_df(test_df, cat_vars=categorical_vars, num_vars=numeric_vars)\n",
    "\n",
    "    #get target df\n",
    "    target_df = gettarget_df(clean_train_df, target_var)\n",
    "\n",
    "    #initialize model list and dicts\n",
    "    models = []\n",
    "    mean_mse = {}\n",
    "    cv_std = {}\n",
    "    res = {}\n",
    "    \n",
    "    #define number of processes to run in parallel\n",
    "    num_procs = 2\n",
    "\n",
    "    #shared model paramaters\n",
    "    verbose_lvl = 5\n",
    "\n",
    "    #create models -- hyperparameter tuning already done by hand for each model\n",
    "    lr = LinearRegression()\n",
    "    lr_std_pca = make_pipeline(StandardScaler(), PCA(), LinearRegression())\n",
    "    rf = RandomForestRegressor(n_estimators=60, n_jobs=num_procs, max_depth=25, min_samples_split=60, \\\n",
    "                               max_features=30, verbose=verbose_lvl)\n",
    "    gbm = GradientBoostingRegressor(n_estimators=40, max_depth=5, loss='ls', verbose=verbose_lvl)\n",
    "\n",
    "    models.extend([lr, lr_std_pca, rf, gbm])\n",
    "\n",
    "    #parallel cross-validate models, using MSE as evaluation metric, and print summaries\n",
    "    print(\"Beginning cross validation\")\n",
    "    for model in models:\n",
    "        train_model(model, feature_df, target_df, num_procs, mean_mse, cv_std)\n",
    "        print_result(model, mean_mse, cv_std)\n",
    "\n",
    "    #choose model with lowest mse\n",
    "    model = min(mean_mse, key=mean_mse.get)\n",
    "    print('\\nPredictions calculated using model with lowest MSE:')\n",
    "    print(model)\n",
    "\n",
    "    #train model on entire dataset\n",
    "    model.fit(feature_df, target_df)\n",
    "\n",
    "    #create predictions based on test data\n",
    "    predictions = model.predict(test_df)\n",
    "\n",
    "    #store feature importances\n",
    "    if hasattr(model, 'feature_importances_'):\n",
    "        importances = model.feature_importances_\n",
    "    else:\n",
    "        #linear models don't have feature_importances_\n",
    "        importances = [0]*len(feature_df.columns)\n",
    "\n",
    "    feature_importances = pd.DataFrame({'feature':feature_df.columns, 'importance':importances})\n",
    "    feature_importances.sort_values(by='importance', ascending=False, inplace=True)\n",
    "    \n",
    "    #set index to 'feature'\n",
    "    feature_importances.set_index('feature', inplace=True, drop=True)\n",
    "    \n",
    "    #create plot\n",
    "    feature_importances[0:25].plot.bar(figsize=(20,10))\n",
    "    plt.show()\n",
    "\n",
    "    #save results\n",
    "    save_results(model, mean_mse[model], predictions, feature_importances)\n",
    "\n",
    "    \n",
    "\n",
    "\n",
    "\n"
   ]
  },
  {
   "cell_type": "code",
   "execution_count": null,
   "metadata": {},
   "outputs": [],
   "source": []
  }
 ],
 "metadata": {
  "kernelspec": {
   "display_name": "Python 3",
   "language": "python",
   "name": "python3"
  },
  "language_info": {
   "codemirror_mode": {
    "name": "ipython",
    "version": 3
   },
   "file_extension": ".py",
   "mimetype": "text/x-python",
   "name": "python",
   "nbconvert_exporter": "python",
   "pygments_lexer": "ipython3",
   "version": "3.7.4"
  }
 },
 "nbformat": 4,
 "nbformat_minor": 2
}
